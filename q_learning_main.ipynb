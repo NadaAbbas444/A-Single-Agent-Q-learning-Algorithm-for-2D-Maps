{
  "nbformat": 4,
  "nbformat_minor": 0,
  "metadata": {
    "colab": {
      "provenance": []
    },
    "kernelspec": {
      "name": "python3",
      "display_name": "Python 3"
    }
  },
  "cells": [
    {
      "cell_type": "markdown",
      "source": [
        "# **Robot Learning – Reinforcement Learning**"
      ],
      "metadata": {
        "id": "ghJhCv0SplbO"
      }
    },
    {
      "cell_type": "markdown",
      "source": [
        "The goal of this practical exercise is to implement a Reinforcement Learning algorithm to learn a policy that moves a robot to a goal position. The algorithm is the Q-learning algorithm.\n",
        "\n",
        "## The Problem \n",
        "The problem consists in finding the goal in a finite 2D environment that is closed and contains some obstacles. \n",
        "\n",
        "**States and actions:** The size of the environment is 20x14=280 states. The robot can only do 4 different actions: {←, ↑, →, ↓} (not diagonal movements!). Therefore the size of the Q function will be 280x4=1120 cells.\n",
        "\n",
        "**Dynamics:** The robot can be located in any free cell (not in the obstacle cells!). The function that describes the dynamics is very simple: the robot will move ONE cell per iteration to the direction of the action that we select, unless there is an obstacle or the wall in front of it, in which case it will\n",
        "stay in the same position.\n",
        "\n",
        "**Reinforcement function:** Since the goal is to reach the goal position as fast as possible, the reinforcement function will give -1 in all cells except in the goal cell, where the reward will be +1. The cell that contains the goal is (3,17)."
      ],
      "metadata": {
        "id": "V_mHK33KpnhG"
      }
    },
    {
      "cell_type": "code",
      "source": [
        "from matplotlib import pyplot as plt\n",
        "import numpy as np\n",
        "import random\n",
        "import copy \n",
        "from PIL import Image "
      ],
      "metadata": {
        "id": "xJeW3VHHN-lo"
      },
      "execution_count": null,
      "outputs": []
    },
    {
      "cell_type": "code",
      "metadata": {
        "id": "9AdpFVfy6ya9",
        "colab": {
          "base_uri": "https://localhost:8080/",
          "height": 282
        },
        "outputId": "a9d663b0-47ec-4339-aa99-207460673257"
      },
      "source": [
        "map=[                                                              # the map\n",
        "[1, 1, 1, 1, 1, 1, 1, 1, 1, 1, 1, 1, 1, 1, 1, 1, 1, 1, 1, 1],\n",
        "[1, 0, 0, 0, 0, 0, 1, 1, 0, 0, 0, 0, 0, 0, 1, 1, 0, 0, 0, 1],\n",
        "[1, 0, 0, 0, 0, 0, 1, 1, 0, 0, 0, 0, 0, 0, 1, 1, 0, 0, 0, 1],\n",
        "[1, 0, 0, 0, 0, 0, 0, 0, 0, 0, 0, 0, 0, 0, 1, 1, 0, 0, 0, 1],\n",
        "[1, 0, 0, 0, 0, 0, 0, 0, 0, 0, 0, 0, 0, 0, 1, 1, 0, 0, 0, 1],\n",
        "[1, 0, 0, 0, 0, 0, 0, 0, 0, 0, 0, 0, 0, 0, 1, 1, 0, 0, 0, 1],\n",
        "[1, 0, 0, 0, 1, 1, 1, 1, 1, 0, 0, 0, 0, 0, 1, 1, 0, 0, 0, 1],\n",
        "[1, 0, 0, 0, 1, 1, 1, 1, 1, 0, 0, 0, 0, 0, 0, 0, 0, 0, 0, 1],\n",
        "[1, 0, 0, 0, 0, 0, 0, 1, 1, 0, 0, 0, 0, 0, 0, 0, 0, 0, 0, 1],\n",
        "[1, 0, 0, 0, 0, 0, 0, 1, 1, 0, 0, 0, 0, 0, 0, 0, 0, 0, 0, 1],\n",
        "[1, 0, 0, 0, 0, 0, 0, 0, 0, 0, 0, 0, 0, 0, 1, 0, 0, 0, 0, 1],\n",
        "[1, 0, 0, 0, 0, 0, 0, 0, 0, 0, 0, 0, 0, 1, 1, 0, 0, 0, 0, 1],\n",
        "[1, 0, 0, 0, 0, 0, 0, 0, 0, 0, 0, 0, 1, 1, 1, 0, 0, 0, 0, 1],\n",
        "[1, 1, 1, 1, 1, 1, 1, 1, 1, 1, 1, 1, 1, 1, 1, 1, 1, 1, 1, 1]]\n",
        "\n",
        "# Convert Map 2D array to Numpy array\n",
        "map = np.array(map)\n",
        "print (map.shape)\n",
        "\n",
        "# Show grid map\n",
        "plt.matshow(map, cmap = \"jet\")\n",
        "plt.title('Original Map')\n",
        "plt.colorbar()\n",
        "\n",
        "map_rows, map_columns = map.shape\n",
        "#print (map[1])\n",
        "\n",
        "goal = (3,18)                                                       # the goal "
      ],
      "execution_count": null,
      "outputs": [
        {
          "output_type": "stream",
          "name": "stdout",
          "text": [
            "(14, 20)\n"
          ]
        },
        {
          "output_type": "display_data",
          "data": {
            "text/plain": [
              "<Figure size 411.429x288 with 2 Axes>"
            ],
            "image/png": "[encoded data removed]"
          },
          "metadata": {
            "needs_background": "light"
          }
        }
      ]
    },
    {
      "cell_type": "markdown",
      "source": [
        "## Algorithm\n",
        "\n",
        "In order to implement the Q-learning algorithm, you should follow the next pseudocode:\n",
        "\n",
        "*Initialize Q(s,a) to “0”*\n",
        "\n",
        ">*For n episodes*\n",
        "\n",
        ">>*Initialize s randomly in any free cell*\n",
        "\n",
        ">>*For m iterations repeat*\n",
        "\n",
        ">>>*Choose a following ε-greedy policy*\n",
        "\n",
        ">>>*Take action a, observe r, s’*\n",
        "\n",
        ">>>*Q(s,a)←Q(s,a) + α ( r + γ · maxQ_a’(s’,a’)-Q(s,a))*\n",
        "\n",
        ">>>*s←s’*\n",
        "\n",
        ">>>*if the goal is achieved then finish the episode*\n",
        "\n",
        ">>*endFor*\n",
        "\n",
        "*endFor*\n",
        "\n",
        "\n",
        "You will have to set several parameters experimentally: n, m, ε, α and γ.\n",
        "\n",
        "\n"
      ],
      "metadata": {
        "id": "R7rW8EFIp5JQ"
      }
    },
    {
      "cell_type": "markdown",
      "source": [
        "## Environment\n",
        "Actions & Rewards \n",
        "\n",
        "In the environment class, you set the possible actions, the rewards obtained depending of those actions and the state of the agent after the action is applied.\n"
      ],
      "metadata": {
        "id": "Syx8q7V5p-SA"
      }
    },
    {
      "cell_type": "code",
      "source": [
        "q_values = np.zeros((map_rows, map_columns, 4)) #initialize q values by zeros \n",
        "actions = ['up', 'down', 'left', 'right'] #possible actions\n",
        "#-----------------------------------------------------------------------------------------------------\n",
        "#Create a 2D numpy array to hold the rewards for each state. \n",
        "\n",
        "rewards = np.full((map_rows, map_columns), -100.)  #for borders and obstacles -100\n",
        "free_space = {}\n",
        "for i in range(map_rows):\n",
        "  for j in range(map_columns):\n",
        "    if map[i,j]==0:\n",
        "      rewards[i, j] = -1.                         # for free space -1\n",
        "\n",
        "\n",
        "rewards[goal[0], goal[1]] = 100                   #for the goal to 100\n",
        "\n",
        "#print rewards matrix\n",
        "for row in rewards:\n",
        "  print(row)\n",
        "\n",
        "plt.matshow(np.array(rewards), cmap = \"jet\")\n",
        "plt.title('Original Map')\n",
        "plt.colorbar()"
      ],
      "metadata": {
        "id": "HisCm4gZFGA9",
        "colab": {
          "base_uri": "https://localhost:8080/",
          "height": 788
        },
        "outputId": "693b6bec-5bbf-46da-b0e1-beff5ec68a61"
      },
      "execution_count": null,
      "outputs": [
        {
          "output_type": "stream",
          "name": "stdout",
          "text": [
            "[-100. -100. -100. -100. -100. -100. -100. -100. -100. -100. -100. -100.\n",
            " -100. -100. -100. -100. -100. -100. -100. -100.]\n",
            "[-100.   -1.   -1.   -1.   -1.   -1. -100. -100.   -1.   -1.   -1.   -1.\n",
            "   -1.   -1. -100. -100.   -1.   -1.   -1. -100.]\n",
            "[-100.   -1.   -1.   -1.   -1.   -1. -100. -100.   -1.   -1.   -1.   -1.\n",
            "   -1.   -1. -100. -100.   -1.   -1.   -1. -100.]\n",
            "[-100.   -1.   -1.   -1.   -1.   -1.   -1.   -1.   -1.   -1.   -1.   -1.\n",
            "   -1.   -1. -100. -100.   -1.   -1.  100. -100.]\n",
            "[-100.   -1.   -1.   -1.   -1.   -1.   -1.   -1.   -1.   -1.   -1.   -1.\n",
            "   -1.   -1. -100. -100.   -1.   -1.   -1. -100.]\n",
            "[-100.   -1.   -1.   -1.   -1.   -1.   -1.   -1.   -1.   -1.   -1.   -1.\n",
            "   -1.   -1. -100. -100.   -1.   -1.   -1. -100.]\n",
            "[-100.   -1.   -1.   -1. -100. -100. -100. -100. -100.   -1.   -1.   -1.\n",
            "   -1.   -1. -100. -100.   -1.   -1.   -1. -100.]\n",
            "[-100.   -1.   -1.   -1. -100. -100. -100. -100. -100.   -1.   -1.   -1.\n",
            "   -1.   -1.   -1.   -1.   -1.   -1.   -1. -100.]\n",
            "[-100.   -1.   -1.   -1.   -1.   -1.   -1. -100. -100.   -1.   -1.   -1.\n",
            "   -1.   -1.   -1.   -1.   -1.   -1.   -1. -100.]\n",
            "[-100.   -1.   -1.   -1.   -1.   -1.   -1. -100. -100.   -1.   -1.   -1.\n",
            "   -1.   -1.   -1.   -1.   -1.   -1.   -1. -100.]\n",
            "[-100.   -1.   -1.   -1.   -1.   -1.   -1.   -1.   -1.   -1.   -1.   -1.\n",
            "   -1.   -1. -100.   -1.   -1.   -1.   -1. -100.]\n",
            "[-100.   -1.   -1.   -1.   -1.   -1.   -1.   -1.   -1.   -1.   -1.   -1.\n",
            "   -1. -100. -100.   -1.   -1.   -1.   -1. -100.]\n",
            "[-100.   -1.   -1.   -1.   -1.   -1.   -1.   -1.   -1.   -1.   -1.   -1.\n",
            " -100. -100. -100.   -1.   -1.   -1.   -1. -100.]\n",
            "[-100. -100. -100. -100. -100. -100. -100. -100. -100. -100. -100. -100.\n",
            " -100. -100. -100. -100. -100. -100. -100. -100.]\n"
          ]
        },
        {
          "output_type": "execute_result",
          "data": {
            "text/plain": [
              "<matplotlib.colorbar.Colorbar at 0x7ff3313108b0>"
            ]
          },
          "metadata": {},
          "execution_count": 11
        },
        {
          "output_type": "display_data",
          "data": {
            "text/plain": [
              "<Figure size 411.429x288 with 2 Axes>"
            ],
            "image/png": "[encoded data removed]"
          },
          "metadata": {
            "needs_background": "light"
          }
        }
      ]
    },
    {
      "cell_type": "markdown",
      "source": [
        "##Helper Functions"
      ],
      "metadata": {
        "id": "zfbEhOIEr07m"
      }
    },
    {
      "cell_type": "code",
      "metadata": {
        "id": "DnCfO5tVG0LJ"
      },
      "source": [
        "#a function that determines if the specified location is a terminal state\n",
        "def check_obstacles(current_row_index, current_column_index):\n",
        "   if rewards[current_row_index, current_column_index] == -1.:\n",
        "    return False\n",
        "   else:\n",
        "    return True\n",
        "\n",
        "#-------------------------------------------------------------------------------------------\n",
        "# start the agent in a random position within the map\n",
        "def get_start():\n",
        "  current_row_index = np.random.randint(map_rows)\n",
        "  current_column_index = np.random.randint(map_columns)\n",
        "  #continue choosing until the chosen state is a free space \n",
        "  while check_obstacles(current_row_index, current_column_index): \n",
        "    current_row_index = np.random.randint(map_rows)\n",
        "    current_column_index = np.random.randint(map_columns)\n",
        "  return current_row_index, current_column_index\n",
        "\n",
        "#-------------------------------------------------------------------------------------------\n",
        "# Epsilon greedy policy (choose a random action with probability epsilon)\n",
        "def epsilon_greedy_policy(current_row_index, current_column_index, epsilon):\n",
        "  if np.random.random() < epsilon:\n",
        "    return np.argmax(q_values[current_row_index, current_column_index])\n",
        "  else: #choose a random action\n",
        "    return np.random.randint(4)\n",
        "\n",
        "#-------------------------------------------------------------------------------------------\n",
        "# this function applies the action taken and returns the next state\n",
        "#get_next_location_index\n",
        "def step(current_row_index, current_column_index, action_index):\n",
        "  new_row_index, new_column_index = current_row_index , current_column_index\n",
        "  if actions[action_index] == 'up' and current_row_index > 0:\n",
        "    new_row_index -= 1\n",
        "  elif actions[action_index] == 'down' and current_row_index < map_rows - 1:\n",
        "    new_row_index += 1\n",
        "  elif actions[action_index] == 'right' and current_column_index < map_columns - 1:\n",
        "    new_column_index += 1\n",
        "  elif actions[action_index] == 'left' and current_column_index > 0:\n",
        "    new_column_index -= 1\n",
        "  return new_row_index, new_column_index\n",
        "\n",
        "#-------------------------------------------------------------------------------------------\n",
        "def value_function(): \n",
        "  \"\"\"Retrieve the optimal value function from from Q(s,a)\"\"\"\n",
        "  v = np.max(q_values, axis = 2)\n",
        "  v[map==1]=-np.inf\n",
        "  v[goal[0], goal[1]] =100\n",
        "  return v\n",
        "\n",
        "#-------------------------------------------------------------------------------------------\n",
        "def get_optimal_policy(): \n",
        "    \"\"\"Retrieve the optimal policy from Q(s,a)\"\"\"\n",
        "    policy = np.argmax(q_values, axis = 2)\n",
        "    policy[map == 1] = -2\n",
        "    policy[goal[0], goal[1]] = -2\n",
        "    return policy\n",
        "\n",
        "#-------------------------------------------------------------------------------------------\n",
        "#a function that will get the shortest path  \n",
        "def get_shortest_path_New(start_row_index, start_column_index):\n",
        "  if check_obstacles(start_row_index, start_column_index):\n",
        "    return []\n",
        "  else: \n",
        "    current_row_index, current_column_index = start_row_index, start_column_index\n",
        "    shortest_path = []\n",
        "    shortest_path.append([current_row_index, current_column_index])\n",
        "    while not check_obstacles(current_row_index, current_column_index):\n",
        "      action_index = epsilon_greedy_policy(current_row_index, current_column_index, 1)       #get the best action (up,right and soon) \n",
        "      current_row_index, current_column_index = step(current_row_index, current_column_index, action_index) # what is the ID index of next action \n",
        "      shortest_path.append([current_row_index, current_column_index])\n",
        "    return shortest_path\n",
        " \n"
      ],
      "execution_count": null,
      "outputs": []
    },
    {
      "cell_type": "markdown",
      "metadata": {
        "id": "pjl9niKEqONs"
      },
      "source": [
        "## QLearning algorithm"
      ]
    },
    {
      "cell_type": "markdown",
      "source": [
        "QLearning class creates and trains the policy at every episode using the information provided by the environment. After the training is over, the optimal policy and the value function are obtained.\n",
        "\n",
        "As in the MapEnv class, you have to fill the empty functions following the previous pseudocode."
      ],
      "metadata": {
        "id": "P3DyYhssra_v"
      }
    },
    {
      "cell_type": "code",
      "source": [
        "\n",
        "def episode(alpha, epsilon): \n",
        "    # Episode execution for n_iterations. Generate an action with epsilon_greedy_policy, \n",
        "    row_index, column_index = get_start()\n",
        "    current_reward=0\n",
        "    action_index = epsilon_greedy_policy(row_index, column_index, epsilon)\n",
        "    if not check_obstacles(row_index, column_index):\n",
        "        old_row_index, old_column_index = row_index, column_index               #store the old row and column indexes\n",
        "        row_index, column_index = step(row_index, column_index, action_index)   #get next action state\n",
        "        reward = rewards[row_index, column_index]                               #calculate the step reward\n",
        "        old_q_value = q_values[old_row_index, old_column_index, action_index]   #get the prev state q value\n",
        "        #update the Q-value for the previous state and action pair\n",
        "        new_q_value = old_q_value + (Alpha * ( reward + (gamma * np.max(q_values[row_index, column_index])) - old_q_value))\n",
        "        q_values[old_row_index, old_column_index, action_index] = new_q_value\n",
        "        current_reward=current_reward+reward                                    #Accumulated reward for steps in the episode\n",
        "    return reward \n",
        "\n",
        "#--------------------------------------------------------------------------------------------------------------------------------------------\n",
        "def train(check_every_n_episodes=200, average_n_episodes=20): \n",
        "    \"\"\"Execute n_episodes and every 200 episodes stop training in order to retrieve \n",
        "        the average reward for 100 episodes, then resume training\"\"\"\n",
        "\n",
        "    accumulated_rewards = []\n",
        "    for i in range(22000):  \n",
        "        episode(Alpha, epsilon)\n",
        "        if i % check_every_n_episodes == 0:\n",
        "            accum_reward = 0\n",
        "            for j in range(average_n_episodes): \n",
        "                total_reward =episode(Alpha, epsilon)\n",
        "                accum_reward += total_reward\n",
        "            accumulated_rewards.append(accum_reward / average_n_episodes)\n",
        "            print(accumulated_rewards[-1], end=\" \")\n",
        "    print (\"Training Is Done \")\n",
        "    return accumulated_rewards"
      ],
      "metadata": {
        "id": "q2vjebtPNVrS"
      },
      "execution_count": null,
      "outputs": []
    },
    {
      "cell_type": "markdown",
      "source": [
        "## Training\n",
        "For the training you need to choose some parameters experimentally. Uncomment the parameters and test different values to see how the training results change.\n",
        "\n",
        "Parameters:\n",
        "\n",
        "*alpha*: learning rate of the algorithm\n",
        "\n",
        "*gamma*: discount factor of the algorithm\n",
        "\n",
        "*epsilon*: random action probability\n",
        "\n",
        "*n_episodes*: number of episode repetitions\n",
        "\n",
        "*n_iterations*: number of iterations per episode"
      ],
      "metadata": {
        "id": "TeDFV8orvsCM"
      }
    },
    {
      "cell_type": "code",
      "source": [
        "#HyperParameters \n",
        "epsilon = 0.9\n",
        "gamma = 0.9\n",
        "Alpha = 0.85\n",
        "\n",
        "#--------------------------------------------------------------------------------------------------------------------------------------------\n",
        "Q= train(check_every_n_episodes=200, average_n_episodes=70)\n",
        "plt.plot(Q) "
      ],
      "metadata": {
        "colab": {
          "base_uri": "https://localhost:8080/",
          "height": 321
        },
        "id": "M41q7U3rTDvw",
        "outputId": "2e607245-5cf7-48d8-b668-e27e719bc576"
      },
      "execution_count": null,
      "outputs": [
        {
          "output_type": "stream",
          "name": "stdout",
          "text": [
            "-12.314285714285715 -13.67142857142857 -3.742857142857143 -6.628571428571429 -5.242857142857143 -0.9428571428571428 -3.8 -2.414285714285714 -2.414285714285714 0.4714285714285714 0.44285714285714284 -2.414285714285714 -5.242857142857143 0.44285714285714284 -1.0 -2.414285714285714 -3.8285714285714287 -1.0 -0.9714285714285714 -2.414285714285714 -3.8285714285714287 -1.0 0.44285714285714284 0.4714285714285714 -2.414285714285714 -3.8285714285714287 4.771428571428571 -0.9714285714285714 -1.0 -1.0 -2.3857142857142857 -0.9714285714285714 -2.414285714285714 -1.0 -2.414285714285714 -5.214285714285714 -2.3857142857142857 1.9142857142857144 0.44285714285714284 -1.0 0.44285714285714284 -1.0 0.44285714285714284 -2.3857142857142857 1.8857142857142857 -3.8 3.3285714285714287 -1.0 0.44285714285714284 0.44285714285714284 -0.9714285714285714 1.9142857142857144 -1.0 0.44285714285714284 0.44285714285714284 -2.414285714285714 -0.9714285714285714 -2.414285714285714 -3.8 0.44285714285714284 -3.8285714285714287 0.4714285714285714 -1.0 -0.9714285714285714 0.4714285714285714 1.8857142857142857 -2.414285714285714 -2.414285714285714 0.44285714285714284 0.44285714285714284 0.44285714285714284 -3.8285714285714287 1.8857142857142857 -2.357142857142857 -0.9714285714285714 -2.3857142857142857 -1.0 -2.3857142857142857 -0.9714285714285714 0.44285714285714284 -6.6571428571428575 -2.414285714285714 0.44285714285714284 -2.357142857142857 -1.0 -0.9714285714285714 -3.8285714285714287 0.4714285714285714 1.8857142857142857 0.44285714285714284 -2.414285714285714 -1.0 1.9142857142857144 -1.0 0.44285714285714284 -2.414285714285714 -3.8 -2.414285714285714 -2.414285714285714 0.4714285714285714 -0.9714285714285714 1.8857142857142857 -1.0 -2.414285714285714 -1.0 1.8857142857142857 3.3285714285714287 0.44285714285714284 -0.9428571428571428 3.3285714285714287 Training Is Done \n"
          ]
        },
        {
          "output_type": "execute_result",
          "data": {
            "text/plain": [
              "[<matplotlib.lines.Line2D at 0x7ff32fab6ee0>]"
            ]
          },
          "metadata": {},
          "execution_count": 14
        },
        {
          "output_type": "display_data",
          "data": {
            "text/plain": [
              "<Figure size 432x288 with 1 Axes>"
            ],
            "image/png": "[encoded data removed]"
          },
          "metadata": {
            "needs_background": "light"
          }
        }
      ]
    },
    {
      "cell_type": "markdown",
      "source": [
        "## Plot value function and optimal policy"
      ],
      "metadata": {
        "id": "JYJ68qOAv-Eu"
      }
    },
    {
      "cell_type": "code",
      "source": [
        "v=value_function()\n",
        "plt.matshow(v, cmap = \"jet\")\n",
        "plt.title('Value Function')\n",
        "plt.colorbar()\n",
        "\n",
        "policy = get_optimal_policy()\n",
        "plt.matshow(policy, cmap = \"jet\")\n",
        "plt.title('Optimal Policy: 0 = up, 1 = down, 2 = left, 3 = right')\n",
        "plt.colorbar()\n"
      ],
      "metadata": {
        "id": "p-zwdos4RctB",
        "colab": {
          "base_uri": "https://localhost:8080/",
          "height": 523
        },
        "outputId": "7d41ad2b-f174-4f1b-c6cd-0297d6868fef"
      },
      "execution_count": null,
      "outputs": [
        {
          "output_type": "execute_result",
          "data": {
            "text/plain": [
              "<matplotlib.colorbar.Colorbar at 0x7ff32f9f7820>"
            ]
          },
          "metadata": {},
          "execution_count": 15
        },
        {
          "output_type": "display_data",
          "data": {
            "text/plain": [
              "<Figure size 411.429x288 with 2 Axes>"
            ],
            "image/png": "[encoded data removed]"
          },
          "metadata": {
            "needs_background": "light"
          }
        },
        {
          "output_type": "display_data",
          "data": {
            "text/plain": [
              "<Figure size 411.429x288 with 2 Axes>"
            ],
            "image/png": "[encoded data removed]"
          },
          "metadata": {
            "needs_background": "light"
          }
        }
      ]
    },
    {
      "cell_type": "code",
      "metadata": {
        "id": "F1YO3mj_oS2J",
        "colab": {
          "base_uri": "https://localhost:8080/",
          "height": 300
        },
        "outputId": "dacb8208-22f6-45aa-ce5d-7df425d56709"
      },
      "source": [
        "#display a few shortest paths\n",
        "start = (4,10)\n",
        "path = get_shortest_path_New(start[0], start[1]) \n",
        "print ('path: ',path )\n",
        " \n",
        " # Show grid map\n",
        "out_map = map.astype(np.float32)\n",
        "\n",
        "for p in path:\n",
        "  out_map[p[0],p[1]] = 0.65\n",
        "out_map[start[0],start[1]] = 0.4\n",
        "out_map[goal[0],goal[1]] = 0.4\n",
        "\n",
        "plt.matshow(out_map, cmap = \"jet\")\n",
        "plt.title('Original Map')\n",
        "plt.colorbar()\n"
      ],
      "execution_count": null,
      "outputs": [
        {
          "output_type": "stream",
          "name": "stdout",
          "text": [
            "path:  [[4, 10], [4, 11], [5, 11], [5, 12], [6, 12], [6, 13], [7, 13], [7, 14], [7, 15], [7, 16], [6, 16], [5, 16], [5, 17], [5, 18], [4, 18], [3, 18]]\n"
          ]
        },
        {
          "output_type": "execute_result",
          "data": {
            "text/plain": [
              "<matplotlib.colorbar.Colorbar at 0x7ff32f8f4d00>"
            ]
          },
          "metadata": {},
          "execution_count": 16
        },
        {
          "output_type": "display_data",
          "data": {
            "text/plain": [
              "<Figure size 411.429x288 with 2 Axes>"
            ],
            "image/png": "[encoded data removed]"
          },
          "metadata": {
            "needs_background": "light"
          }
        }
      ]
    }
  ]
}